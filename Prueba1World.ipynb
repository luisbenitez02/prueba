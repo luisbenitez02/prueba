{
 "cells": [
  {
   "cell_type": "code",
   "execution_count": 31,
   "metadata": {},
   "outputs": [],
   "source": [
    "import pandas as pd\n",
    "from selenium import webdriver\n",
    "import chromedriver_binary#sin necesidad de añadir a Path\n",
    "import time"
   ]
  },
  {
   "cell_type": "code",
   "execution_count": 32,
   "metadata": {},
   "outputs": [
    {
     "name": "stdout",
     "output_type": "stream",
     "text": [
      "2083\n"
     ]
    }
   ],
   "source": [
    "browser = webdriver.Chrome()#manejador\n",
    "browser.get(\"https://www.worldbank.org/en/projects-operations/procurement/debarred-firms#\")\n",
    "\n",
    "time.sleep(15)#espera para buscar\n",
    "\n",
    "rows_num = len(browser.find_elements_by_xpath('//*[@id=\"k-debarred-firms\"]/div[3]/table/tbody/tr'))\n",
    "print(rows_num)#numero total de datos"
   ]
  },
  {
   "cell_type": "code",
   "execution_count": 33,
   "metadata": {},
   "outputs": [],
   "source": [
    "if rows_num == 0:\n",
    "    print(\"Uff parece que la pagina no esta disponible actualmente\")\n",
    "    print(\"Intenta de nuevo mas tarde. Suele tardar un momento en actualizarse\")"
   ]
  },
  {
   "cell_type": "code",
   "execution_count": 34,
   "metadata": {},
   "outputs": [],
   "source": [
    "#====================== Obtencion de datos ============================================\n",
    "#------- Arrays para almacenar\n",
    "dic_firm_name =[]\n",
    "dic_adress=[]\n",
    "dic_country=[]\n",
    "dic_date_from = []\n",
    "dic_date_to= []\n",
    "dic_grounds=[]"
   ]
  },
  {
   "cell_type": "code",
   "execution_count": 35,
   "metadata": {},
   "outputs": [
    {
     "name": "stdout",
     "output_type": "stream",
     "text": [
      "Van 100\n",
      "CHINA RAILWAY FIRST GROUP FORTH ENGINEERING CO., LTD.(Reg. No.: 916104007197681415)*503\n",
      "Van 200\n",
      "EMMYWAYS ENGINEERING/CONSTRUCTION LIMITED*487\n",
      "Van 300\n",
      "SHANGHAI SHUXIANG REAL ESTATE CO., LTD.(上海蜀翔房地产有限公司)(Reg. No: 91310114MA1GTWLF51)*482\n",
      "Van 400\n",
      "QIQIHAR FUTIE RAIL SLEEPER CO., LTD.(齐齐哈尔富铁轨枕有限公司)(Reg. No: 912302061285163568)*482\n",
      "Van 500\n",
      "REAL ESTATE INVESTMENT CO., LTD. OF CHINA RAILWAY 16TH BUREAU GROUP CO.,LTD.(中铁十六局集团置业投资有限公司)(Reg. No: 91110000576914526P)*482\n",
      "Van 600\n",
      "REAL ESTATE DEVELOPMENT CO., LTD OF CHINA RAILWAY 22ND BUREAU GROUP CO., LTD(中铁二十二局集团房地产开发有限公司)(Reg. No: 91110000569497701Q)*482\n",
      "Van 700\n",
      "CHINA RAILWAY CONSTRUCTION PRECAST COMPONENT R&D CONSULTING (SHANGHAI) CO., LTD.(中铁建预制构件研发咨询（上海）有限公司)(Reg. No: 91310117MA1J21T044)*482\n",
      "Van 800\n",
      "CHINA RAILWAY 18TH BUREAU GROUP MADAGASCAR CO., LTD.(中铁十八局集团马达加斯加公司)(Reg. No: 2008-001124)*482\n",
      "Van 900\n",
      "CCECC (MALAWI) CO., LTD.(中国土木工程集团（马拉维）有限公司)(Reg. No: N1000201600256)*482\n",
      "Van 1000\n",
      "BHARUCH ENVIRO INFRASTRUCTURE LTD.(Reg. No.: U45300GJ1997PLC032696) *393\n",
      "Van 1100\n",
      "NOBSACONSTRUCCIONES S.A.\n",
      "Van 1200\n",
      "JOSÉ DAVID ARAQUE MÉNDEZ\n",
      "Van 1300\n",
      "WENZHOU LUGANG TRANSPORTATION EQUIPMENT CO., LTD.(温州路港交通设备有限公司)*457\n",
      "Van 1400\n",
      "NIDSECURITY SA(Reg. No. 114.578.518) *402\n",
      "Van 1500\n",
      "INTERNATIONAL PROJECT DEVELOPMENT, LLC\n",
      "Van 1600\n",
      "ECOGRAPH LLC AKA ECOGRAPHY COMPANY*294\n",
      "Van 1700\n",
      "MS. CORINA RAMIREZ RODRIGUEZ*201\n",
      "Van 1800\n",
      "SNC-LAVALIN CAPITAL INC.*150\n",
      "Van 1900\n",
      "ASDECON CORPORATION COMPANY LIMITED*109\n",
      "Van 2000\n",
      "THE GLOCOMS GROUP, INC.*11\n"
     ]
    }
   ],
   "source": [
    "#------------ ciclos para extraer datos de la tabla\n",
    "i=1\n",
    "u=1\n",
    "while i <= rows_num:\n",
    "    #-------- Xpatch para extraer datos\n",
    "    xname = '//*[@id=\"k-debarred-firms\"]/div[3]/table/tbody/tr[{}]/td[1]'.format(i)\n",
    "    xdirec = '//*[@id=\"k-debarred-firms\"]/div[3]/table/tbody/tr[{}]/td[3]'.format(i)\n",
    "    xcountry = '//*[@id=\"k-debarred-firms\"]/div[3]/table/tbody/tr[{}]/td[4]'.format(i)\n",
    "    xfromdate = '//*[@id=\"k-debarred-firms\"]/div[3]/table/tbody/tr[{}]/td[5]'.format(i)\n",
    "    xtodate = '//*[@id=\"k-debarred-firms\"]/div[3]/table/tbody/tr[{}]/td[6]'.format(i)\n",
    "    xgrounds = '//*[@id=\"k-debarred-firms\"]/div[3]/table/tbody/tr[{}]/td[7]'.format(i)\n",
    "    \n",
    "    #obtengo los valores deseados y agrego a los arrays\n",
    "    name = browser.find_element_by_xpath(xname).text\n",
    "    direc = browser.find_element_by_xpath(xdirec).text\n",
    "    contry = browser.find_element_by_xpath(xcountry).text\n",
    "    fromdate = browser.find_element_by_xpath(xfromdate).text\n",
    "    todate = browser.find_element_by_xpath(xtodate).text\n",
    "    grounds = browser.find_element_by_xpath(xgrounds).text\n",
    "    \n",
    "    #---llenando arrays\n",
    "    dic_firm_name.append(name)\n",
    "    dic_adress.append(direc)\n",
    "    dic_country.append(contry)\n",
    "    dic_date_from.append(fromdate)\n",
    "    dic_date_to.append(todate)\n",
    "    dic_grounds.append(grounds)\n",
    "    \n",
    "    if (i%100 == 0):\n",
    "        print(\"Van {}\".format(i))\n",
    "        print(dic_firm_name[i-1])\n",
    "\n",
    "    i+=1\n",
    "     "
   ]
  },
  {
   "cell_type": "code",
   "execution_count": 37,
   "metadata": {},
   "outputs": [],
   "source": [
    "datos = {'FIRM NAME':dic_firm_name, \n",
    "         'ADDRESS':dic_adress, \n",
    "         'COUNTRY':dic_country,\n",
    "         'INELIGIBITY_PERIOD_FROM':dic_date_from,\n",
    "         'INELIGIBITY_PERIOD_TO':dic_date_to,\n",
    "         'GROUNDS':dic_grounds}\n",
    "dfwb = pd.DataFrame(datos)"
   ]
  },
  {
   "cell_type": "markdown",
   "metadata": {},
   "source": [
    "## Limpieza"
   ]
  },
  {
   "cell_type": "code",
   "execution_count": 39,
   "metadata": {},
   "outputs": [
    {
     "data": {
      "text/html": [
       "<div>\n",
       "<style scoped>\n",
       "    .dataframe tbody tr th:only-of-type {\n",
       "        vertical-align: middle;\n",
       "    }\n",
       "\n",
       "    .dataframe tbody tr th {\n",
       "        vertical-align: top;\n",
       "    }\n",
       "\n",
       "    .dataframe thead th {\n",
       "        text-align: right;\n",
       "    }\n",
       "</style>\n",
       "<table border=\"1\" class=\"dataframe\">\n",
       "  <thead>\n",
       "    <tr style=\"text-align: right;\">\n",
       "      <th></th>\n",
       "      <th>FIRM NAME</th>\n",
       "      <th>ADDRESS</th>\n",
       "      <th>COUNTRY</th>\n",
       "      <th>INELIGIBITY_PERIOD_FROM</th>\n",
       "      <th>INELIGIBITY_PERIOD_TO</th>\n",
       "      <th>GROUNDS</th>\n",
       "    </tr>\n",
       "  </thead>\n",
       "  <tbody>\n",
       "    <tr>\n",
       "      <th>0</th>\n",
       "      <td>LLC “WOODMANMEBEL”*514</td>\n",
       "      <td>YUROVSKAYA STREET 92, OFFICE NO. 1, MOSCOW 125466</td>\n",
       "      <td>Russian Federation</td>\n",
       "      <td>31-Dec-2019</td>\n",
       "      <td>30-Dec-2022</td>\n",
       "      <td>Procurement Guidelines, 1.16(a)(ii)</td>\n",
       "    </tr>\n",
       "    <tr>\n",
       "      <th>1</th>\n",
       "      <td>ZENG ZILING</td>\n",
       "      <td>3-21-01, E-SHIDAI, XIN MAO YUAN, SI GONG LI, C...</td>\n",
       "      <td>China</td>\n",
       "      <td>24-Dec-2019</td>\n",
       "      <td>11-Sep-2023</td>\n",
       "      <td>Cross Debarment: ADB</td>\n",
       "    </tr>\n",
       "    <tr>\n",
       "      <th>2</th>\n",
       "      <td>GENERAL ELECTRIC POWER SWEDEN AB</td>\n",
       "      <td>SLOTTSGATAN 69, SE-602 22 NORRKOPING</td>\n",
       "      <td>Sweden</td>\n",
       "      <td>17-Dec-2019</td>\n",
       "      <td>26-Nov-2025</td>\n",
       "      <td>Cross Debarment: EBRD</td>\n",
       "    </tr>\n",
       "    <tr>\n",
       "      <th>3</th>\n",
       "      <td>ESWARI ELECTRICALS PVT. LIMITED*513</td>\n",
       "      <td>PLOT NO. 64, INDUSTRIAL ESTATE, PERUNGUDI, CHE...</td>\n",
       "      <td>India</td>\n",
       "      <td>26-Nov-2019</td>\n",
       "      <td>25-Nov-2023</td>\n",
       "      <td>Procurement Guidelines, 1.16(a)(ii)</td>\n",
       "    </tr>\n",
       "    <tr>\n",
       "      <th>4</th>\n",
       "      <td>MOTO-ID S.A.(Reg. No.: B171868)*475</td>\n",
       "      <td>6, RUE EUGENE RUPPERT, L-2453</td>\n",
       "      <td>Luxembourg</td>\n",
       "      <td>22-Nov-2019</td>\n",
       "      <td>23-Oct-2025</td>\n",
       "      <td>May 2010 Procurement Guidelines, Paras. 1.14(a...</td>\n",
       "    </tr>\n",
       "  </tbody>\n",
       "</table>\n",
       "</div>"
      ],
      "text/plain": [
       "                             FIRM NAME  \\\n",
       "0               LLC “WOODMANMEBEL”*514   \n",
       "1                          ZENG ZILING   \n",
       "2     GENERAL ELECTRIC POWER SWEDEN AB   \n",
       "3  ESWARI ELECTRICALS PVT. LIMITED*513   \n",
       "4  MOTO-ID S.A.(Reg. No.: B171868)*475   \n",
       "\n",
       "                                             ADDRESS             COUNTRY  \\\n",
       "0  YUROVSKAYA STREET 92, OFFICE NO. 1, MOSCOW 125466  Russian Federation   \n",
       "1  3-21-01, E-SHIDAI, XIN MAO YUAN, SI GONG LI, C...               China   \n",
       "2               SLOTTSGATAN 69, SE-602 22 NORRKOPING              Sweden   \n",
       "3  PLOT NO. 64, INDUSTRIAL ESTATE, PERUNGUDI, CHE...               India   \n",
       "4                      6, RUE EUGENE RUPPERT, L-2453          Luxembourg   \n",
       "\n",
       "  INELIGIBITY_PERIOD_FROM INELIGIBITY_PERIOD_TO  \\\n",
       "0             31-Dec-2019           30-Dec-2022   \n",
       "1             24-Dec-2019           11-Sep-2023   \n",
       "2             17-Dec-2019           26-Nov-2025   \n",
       "3             26-Nov-2019           25-Nov-2023   \n",
       "4             22-Nov-2019           23-Oct-2025   \n",
       "\n",
       "                                             GROUNDS  \n",
       "0                Procurement Guidelines, 1.16(a)(ii)  \n",
       "1                               Cross Debarment: ADB  \n",
       "2                              Cross Debarment: EBRD  \n",
       "3                Procurement Guidelines, 1.16(a)(ii)  \n",
       "4  May 2010 Procurement Guidelines, Paras. 1.14(a...  "
      ]
     },
     "execution_count": 39,
     "metadata": {},
     "output_type": "execute_result"
    }
   ],
   "source": [
    "dfwb.head()"
   ]
  },
  {
   "cell_type": "code",
   "execution_count": 41,
   "metadata": {},
   "outputs": [],
   "source": [
    "#reemplazar caracteres que dan conflicto al insertar en la tabla\n",
    "dfwb['FIRM NAME'] = dfwb['FIRM NAME'].str.replace('“','')\n",
    "dfwb['FIRM NAME'] = dfwb['FIRM NAME'].str.replace('”','')\n",
    "dfwb['FIRM NAME'] = dfwb['FIRM NAME'].str.replace(\"'\",' ')\n",
    "dfwb['ADDRESS'] = dfwb['ADDRESS'].str.replace(\"'\",' ')\n",
    "dfwb['COUNTRY'] = dfwb['COUNTRY'].str.replace(\"'\",' ')\n",
    "#se dejan los nan "
   ]
  },
  {
   "cell_type": "markdown",
   "metadata": {},
   "source": [
    "## Guardando en la BD"
   ]
  },
  {
   "cell_type": "code",
   "execution_count": 68,
   "metadata": {},
   "outputs": [],
   "source": [
    "import psycopg2\n",
    "from sqlalchemy import create_engine\n",
    "from sqlalchemy.types import String\n",
    "import io\n",
    "con = psycopg2.connect(database=\"prueba\", user=\"postgres\", password=\"12345\", host=\"127.0.0.1\", port=\"5432\")"
   ]
  },
  {
   "cell_type": "code",
   "execution_count": 69,
   "metadata": {},
   "outputs": [],
   "source": [
    "cur = con.cursor()"
   ]
  },
  {
   "cell_type": "code",
   "execution_count": 70,
   "metadata": {},
   "outputs": [
    {
     "name": "stdout",
     "output_type": "stream",
     "text": [
      "Tabla creada\n"
     ]
    }
   ],
   "source": [
    "cur.execute('''CREATE TABLE IF NOT EXISTS diccionario\n",
    "(\n",
    "    \"firmname\" TEXT,\n",
    "    \"adress\" TEXT,\n",
    "    \"country\" TEXT,\n",
    "    \"ineligibilityperiodfromdate\" TEXT,\n",
    "    \"ineligibilityperiodtodate\" TEXT,\n",
    "    \"grounds\" TEXT\n",
    ");''')\n",
    "#    \"additionalfirminfo\" TEXT,\n",
    "print(\"Tabla creada\")\n",
    "con.commit()\n",
    "con.close()"
   ]
  },
  {
   "cell_type": "code",
   "execution_count": 71,
   "metadata": {},
   "outputs": [],
   "source": [
    "con = psycopg2.connect(database=\"prueba\", user=\"postgres\", password=\"12345\", host=\"127.0.0.1\", port=\"5432\")\n",
    "cur= con.cursor()\n",
    "i=0\n",
    "num= dfwb.shape[0]\n",
    "while i <= num-1:\n",
    "    consulta = \"INSERT INTO diccionario(firmname,adress,country,ineligibilityperiodfromdate,ineligibilityperiodtodate,grounds) VALUES ('{}', '{}', '{}', '{}', '{}', '{}')\".format(\n",
    "        dfwb['FIRM NAME'][i], dfwb['ADDRESS'][i],\n",
    "        dfwb['COUNTRY'][i], dfwb['INELIGIBITY_PERIOD_FROM'][i],dfwb['INELIGIBITY_PERIOD_TO'][i], dfwb['GROUNDS'][i])\n",
    "    cur.execute(consulta);\n",
    "    con.commit()\n",
    "    i+=1\n",
    "    \n",
    "con.close()"
   ]
  },
  {
   "cell_type": "code",
   "execution_count": null,
   "metadata": {},
   "outputs": [],
   "source": []
  }
 ],
 "metadata": {
  "kernelspec": {
   "display_name": "Python 3",
   "language": "python",
   "name": "python3"
  },
  "language_info": {
   "codemirror_mode": {
    "name": "ipython",
    "version": 3
   },
   "file_extension": ".py",
   "mimetype": "text/x-python",
   "name": "python",
   "nbconvert_exporter": "python",
   "pygments_lexer": "ipython3",
   "version": "3.7.5"
  }
 },
 "nbformat": 4,
 "nbformat_minor": 4
}
