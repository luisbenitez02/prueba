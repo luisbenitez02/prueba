{
 "cells": [
  {
   "cell_type": "markdown",
   "metadata": {},
   "source": [
    "# Prueba #1\n",
    "\n",
    "Luis H. Benitez"
   ]
  },
  {
   "cell_type": "code",
   "execution_count": 19,
   "metadata": {},
   "outputs": [],
   "source": [
    "import pandas as pd"
   ]
  },
  {
   "cell_type": "markdown",
   "metadata": {},
   "source": [
    "## Recuperando dataset"
   ]
  },
  {
   "cell_type": "markdown",
   "metadata": {},
   "source": [
    "**Nota importante**\n",
    "* El siguiente codigo se puede ejecutar como tarea de windows. Se deja aqui para su visualizacion y ejecucion manual"
   ]
  },
  {
   "cell_type": "code",
   "execution_count": 20,
   "metadata": {},
   "outputs": [
    {
     "name": "stdout",
     "output_type": "stream",
     "text": [
      "Eliminando archivo anterior...\n"
     ]
    }
   ],
   "source": [
    "from selenium import webdriver\n",
    "import time, os\n",
    "import chromedriver_binary#sin necesidad de añadir a Path\n",
    "import shutil, os\n",
    "opciones = webdriver.ChromeOptions() \n",
    "prefs = {'download.default_directory' : 'C:\\\\Users\\\\luisb\\\\Code-Font\\\\prueba\\\\dataset\\\\'}\n",
    "\n",
    "opciones.add_experimental_option('prefs', prefs) \n",
    "browser = webdriver.Chrome(options=opciones)\n",
    "\n",
    "browser.get(\"https://www.worldbank.org/en/projects-operations/procurement/debarred-firms#\")\n",
    "time.sleep(20)#espera para buscar el boton\n",
    "\n",
    "#verifico si el archivo existe\n",
    "if os.path.isfile('C:/Users/luisb/Code-Font/prueba/dataset/Sanctioned individuals and firms.xlsx'):\n",
    "    print(\"Eliminando archivo anterior...\")\n",
    "    os.remove('C:/Users/luisb/Code-Font/prueba/dataset/Sanctioned individuals and firms.xlsx')\n",
    "    #renombro para no borrar y no dañar el siguiente\n",
    "browser.find_element_by_class_name(\"k-grid-excel\").click()\n",
    "#time.sleep(5)#deja abierta un momento mientras descarga\n",
    "#browser.close()"
   ]
  },
  {
   "cell_type": "markdown",
   "metadata": {},
   "source": [
    "**NOTA** Este codigo varia ligeramente en el script automatico\n",
    "- Las rutas del script son explicitas\n",
    "- se agrega ciclo while para esperar la descarga"
   ]
  },
  {
   "cell_type": "markdown",
   "metadata": {},
   "source": [
    "## Lectura y limpieza del dataset"
   ]
  },
  {
   "cell_type": "code",
   "execution_count": 21,
   "metadata": {},
   "outputs": [
    {
     "data": {
      "text/html": [
       "<div>\n",
       "<style scoped>\n",
       "    .dataframe tbody tr th:only-of-type {\n",
       "        vertical-align: middle;\n",
       "    }\n",
       "\n",
       "    .dataframe tbody tr th {\n",
       "        vertical-align: top;\n",
       "    }\n",
       "\n",
       "    .dataframe thead th {\n",
       "        text-align: right;\n",
       "    }\n",
       "</style>\n",
       "<table border=\"1\" class=\"dataframe\">\n",
       "  <thead>\n",
       "    <tr style=\"text-align: right;\">\n",
       "      <th></th>\n",
       "      <th>Firm Name</th>\n",
       "      <th>Additional Firm Info</th>\n",
       "      <th>Address</th>\n",
       "      <th>Country</th>\n",
       "      <th>Ineligibility Period From Date</th>\n",
       "      <th>Ineligibility Period To Date</th>\n",
       "      <th>Grounds</th>\n",
       "    </tr>\n",
       "  </thead>\n",
       "  <tbody>\n",
       "    <tr>\n",
       "      <th>0</th>\n",
       "      <td>NaN</td>\n",
       "      <td>NaN</td>\n",
       "      <td>NaN</td>\n",
       "      <td>NaN</td>\n",
       "      <td>From Date</td>\n",
       "      <td>To Date</td>\n",
       "      <td>NaN</td>\n",
       "    </tr>\n",
       "    <tr>\n",
       "      <th>1</th>\n",
       "      <td>LLC “WOODMANMEBEL”</td>\n",
       "      <td>*514</td>\n",
       "      <td>YUROVSKAYA STREET 92, OFFICE NO. 1, MOSCOW 125466</td>\n",
       "      <td>Russian Federation</td>\n",
       "      <td>2019-12-31</td>\n",
       "      <td>2022-12-30</td>\n",
       "      <td>Procurement Guidelines, 1.16(a)(ii)</td>\n",
       "    </tr>\n",
       "    <tr>\n",
       "      <th>2</th>\n",
       "      <td>ZENG ZILING</td>\n",
       "      <td>NaN</td>\n",
       "      <td>3-21-01, E-SHIDAI, XIN MAO YUAN, SI GONG LI, C...</td>\n",
       "      <td>China</td>\n",
       "      <td>2019-12-24</td>\n",
       "      <td>2023-09-11</td>\n",
       "      <td>Cross Debarment: ADB</td>\n",
       "    </tr>\n",
       "    <tr>\n",
       "      <th>3</th>\n",
       "      <td>GENERAL ELECTRIC POWER SWEDEN AB</td>\n",
       "      <td>NaN</td>\n",
       "      <td>SLOTTSGATAN 69, SE-602 22 NORRKOPING</td>\n",
       "      <td>Sweden</td>\n",
       "      <td>2019-12-17</td>\n",
       "      <td>2025-11-26</td>\n",
       "      <td>Cross Debarment: EBRD</td>\n",
       "    </tr>\n",
       "    <tr>\n",
       "      <th>4</th>\n",
       "      <td>ESWARI ELECTRICALS PVT. LIMITED</td>\n",
       "      <td>*513</td>\n",
       "      <td>PLOT NO. 64, INDUSTRIAL ESTATE, PERUNGUDI, CHE...</td>\n",
       "      <td>India</td>\n",
       "      <td>2019-11-26</td>\n",
       "      <td>2023-11-25</td>\n",
       "      <td>Procurement Guidelines, 1.16(a)(ii)</td>\n",
       "    </tr>\n",
       "  </tbody>\n",
       "</table>\n",
       "</div>"
      ],
      "text/plain": [
       "                          Firm Name Additional Firm Info  \\\n",
       "0                               NaN                  NaN   \n",
       "1                LLC “WOODMANMEBEL”                 *514   \n",
       "2                       ZENG ZILING                  NaN   \n",
       "3  GENERAL ELECTRIC POWER SWEDEN AB                  NaN   \n",
       "4   ESWARI ELECTRICALS PVT. LIMITED                 *513   \n",
       "\n",
       "                                             Address             Country  \\\n",
       "0                                                NaN                 NaN   \n",
       "1  YUROVSKAYA STREET 92, OFFICE NO. 1, MOSCOW 125466  Russian Federation   \n",
       "2  3-21-01, E-SHIDAI, XIN MAO YUAN, SI GONG LI, C...               China   \n",
       "3               SLOTTSGATAN 69, SE-602 22 NORRKOPING              Sweden   \n",
       "4  PLOT NO. 64, INDUSTRIAL ESTATE, PERUNGUDI, CHE...               India   \n",
       "\n",
       "  Ineligibility Period From Date Ineligibility Period To Date  \\\n",
       "0                      From Date                      To Date   \n",
       "1                     2019-12-31                   2022-12-30   \n",
       "2                     2019-12-24                   2023-09-11   \n",
       "3                     2019-12-17                   2025-11-26   \n",
       "4                     2019-11-26                   2023-11-25   \n",
       "\n",
       "                               Grounds  \n",
       "0                                  NaN  \n",
       "1  Procurement Guidelines, 1.16(a)(ii)  \n",
       "2                 Cross Debarment: ADB  \n",
       "3                Cross Debarment: EBRD  \n",
       "4  Procurement Guidelines, 1.16(a)(ii)  "
      ]
     },
     "execution_count": 21,
     "metadata": {},
     "output_type": "execute_result"
    }
   ],
   "source": [
    "time.sleep(6) #para esperar a que acabe la descarga\n",
    "df = pd.read_excel(\"./dataset/Sanctioned individuals and firms.xlsx\", header=1)\n",
    "df.rename(columns={'Ineligibility Period': 'Ineligibility Period From Date', 'Unnamed: 5': 'Ineligibility Period To Date'}, inplace=True)\n",
    "df.head()"
   ]
  },
  {
   "cell_type": "code",
   "execution_count": 22,
   "metadata": {},
   "outputs": [
    {
     "data": {
      "text/plain": [
       "(2084, 7)"
      ]
     },
     "execution_count": 22,
     "metadata": {},
     "output_type": "execute_result"
    }
   ],
   "source": [
    "df.shape"
   ]
  },
  {
   "cell_type": "code",
   "execution_count": 23,
   "metadata": {},
   "outputs": [
    {
     "data": {
      "text/html": [
       "<div>\n",
       "<style scoped>\n",
       "    .dataframe tbody tr th:only-of-type {\n",
       "        vertical-align: middle;\n",
       "    }\n",
       "\n",
       "    .dataframe tbody tr th {\n",
       "        vertical-align: top;\n",
       "    }\n",
       "\n",
       "    .dataframe thead th {\n",
       "        text-align: right;\n",
       "    }\n",
       "</style>\n",
       "<table border=\"1\" class=\"dataframe\">\n",
       "  <thead>\n",
       "    <tr style=\"text-align: right;\">\n",
       "      <th></th>\n",
       "      <th>Firm Name</th>\n",
       "      <th>Additional Firm Info</th>\n",
       "      <th>Address</th>\n",
       "      <th>Country</th>\n",
       "      <th>Ineligibility Period From Date</th>\n",
       "      <th>Ineligibility Period To Date</th>\n",
       "      <th>Grounds</th>\n",
       "    </tr>\n",
       "  </thead>\n",
       "  <tbody>\n",
       "    <tr>\n",
       "      <th>1</th>\n",
       "      <td>LLC “WOODMANMEBEL”</td>\n",
       "      <td>*514</td>\n",
       "      <td>YUROVSKAYA STREET 92, OFFICE NO. 1, MOSCOW 125466</td>\n",
       "      <td>Russian Federation</td>\n",
       "      <td>2019-12-31</td>\n",
       "      <td>2022-12-30</td>\n",
       "      <td>Procurement Guidelines, 1.16(a)(ii)</td>\n",
       "    </tr>\n",
       "    <tr>\n",
       "      <th>2</th>\n",
       "      <td>ZENG ZILING</td>\n",
       "      <td>NaN</td>\n",
       "      <td>3-21-01, E-SHIDAI, XIN MAO YUAN, SI GONG LI, C...</td>\n",
       "      <td>China</td>\n",
       "      <td>2019-12-24</td>\n",
       "      <td>2023-09-11</td>\n",
       "      <td>Cross Debarment: ADB</td>\n",
       "    </tr>\n",
       "    <tr>\n",
       "      <th>3</th>\n",
       "      <td>GENERAL ELECTRIC POWER SWEDEN AB</td>\n",
       "      <td>NaN</td>\n",
       "      <td>SLOTTSGATAN 69, SE-602 22 NORRKOPING</td>\n",
       "      <td>Sweden</td>\n",
       "      <td>2019-12-17</td>\n",
       "      <td>2025-11-26</td>\n",
       "      <td>Cross Debarment: EBRD</td>\n",
       "    </tr>\n",
       "    <tr>\n",
       "      <th>4</th>\n",
       "      <td>ESWARI ELECTRICALS PVT. LIMITED</td>\n",
       "      <td>*513</td>\n",
       "      <td>PLOT NO. 64, INDUSTRIAL ESTATE, PERUNGUDI, CHE...</td>\n",
       "      <td>India</td>\n",
       "      <td>2019-11-26</td>\n",
       "      <td>2023-11-25</td>\n",
       "      <td>Procurement Guidelines, 1.16(a)(ii)</td>\n",
       "    </tr>\n",
       "    <tr>\n",
       "      <th>5</th>\n",
       "      <td>MOTO-ID S.A.</td>\n",
       "      <td>(Reg. No.: B171868)*475</td>\n",
       "      <td>6, RUE EUGENE RUPPERT, L-2453</td>\n",
       "      <td>Luxembourg</td>\n",
       "      <td>2019-11-22</td>\n",
       "      <td>2025-10-23</td>\n",
       "      <td>May 2010 Procurement Guidelines, Paras. 1.14(a...</td>\n",
       "    </tr>\n",
       "  </tbody>\n",
       "</table>\n",
       "</div>"
      ],
      "text/plain": [
       "                          Firm Name     Additional Firm Info  \\\n",
       "1                LLC “WOODMANMEBEL”                     *514   \n",
       "2                       ZENG ZILING                      NaN   \n",
       "3  GENERAL ELECTRIC POWER SWEDEN AB                      NaN   \n",
       "4   ESWARI ELECTRICALS PVT. LIMITED                     *513   \n",
       "5                      MOTO-ID S.A.  (Reg. No.: B171868)*475   \n",
       "\n",
       "                                             Address             Country  \\\n",
       "1  YUROVSKAYA STREET 92, OFFICE NO. 1, MOSCOW 125466  Russian Federation   \n",
       "2  3-21-01, E-SHIDAI, XIN MAO YUAN, SI GONG LI, C...               China   \n",
       "3               SLOTTSGATAN 69, SE-602 22 NORRKOPING              Sweden   \n",
       "4  PLOT NO. 64, INDUSTRIAL ESTATE, PERUNGUDI, CHE...               India   \n",
       "5                      6, RUE EUGENE RUPPERT, L-2453          Luxembourg   \n",
       "\n",
       "  Ineligibility Period From Date Ineligibility Period To Date  \\\n",
       "1                     2019-12-31                   2022-12-30   \n",
       "2                     2019-12-24                   2023-09-11   \n",
       "3                     2019-12-17                   2025-11-26   \n",
       "4                     2019-11-26                   2023-11-25   \n",
       "5                     2019-11-22                   2025-10-23   \n",
       "\n",
       "                                             Grounds  \n",
       "1                Procurement Guidelines, 1.16(a)(ii)  \n",
       "2                               Cross Debarment: ADB  \n",
       "3                              Cross Debarment: EBRD  \n",
       "4                Procurement Guidelines, 1.16(a)(ii)  \n",
       "5  May 2010 Procurement Guidelines, Paras. 1.14(a...  "
      ]
     },
     "execution_count": 23,
     "metadata": {},
     "output_type": "execute_result"
    }
   ],
   "source": [
    "df=df.drop(df.index[0])#elimino primera fila (trae headers)\n",
    "df.head()"
   ]
  },
  {
   "cell_type": "code",
   "execution_count": 24,
   "metadata": {},
   "outputs": [
    {
     "data": {
      "text/plain": [
       "362"
      ]
     },
     "execution_count": 24,
     "metadata": {},
     "output_type": "execute_result"
    }
   ],
   "source": [
    "#conociendo cuantos datos vacios hay en columna Additional Firm Info\n",
    "pd.isnull(df[\"Additional Firm Info\"]).values.ravel().sum() #deveuvle suma de 1's (true), datos vacios"
   ]
  },
  {
   "cell_type": "markdown",
   "metadata": {},
   "source": [
    "Prefiero no borrar los datos vacios en esta ocasion "
   ]
  },
  {
   "cell_type": "code",
   "execution_count": 25,
   "metadata": {},
   "outputs": [
    {
     "data": {
      "text/plain": [
       "Firm Name                         object\n",
       "Additional Firm Info              object\n",
       "Address                           object\n",
       "Country                           object\n",
       "Ineligibility Period From Date    object\n",
       "Ineligibility Period To Date      object\n",
       "Grounds                           object\n",
       "dtype: object"
      ]
     },
     "execution_count": 25,
     "metadata": {},
     "output_type": "execute_result"
    }
   ],
   "source": [
    "df.dtypes #tipos de dato"
   ]
  },
  {
   "cell_type": "code",
   "execution_count": 26,
   "metadata": {},
   "outputs": [],
   "source": [
    "#reemplazar caracteres que dan conflicto al insertar en la tabla\n",
    "df['Firm Name'] = df['Firm Name'].str.replace('“','')\n",
    "df['Firm Name'] = df['Firm Name'].str.replace('”','')\n",
    "df['Firm Name'] = df['Firm Name'].str.replace(\"'\",' ')\n",
    "df['Address'] = df['Address'].str.replace(\"'\",' ')\n",
    "df['Country'] = df['Country'].str.replace(\"'\",' ')\n",
    "#se dejan los nan "
   ]
  },
  {
   "cell_type": "code",
   "execution_count": 27,
   "metadata": {},
   "outputs": [
    {
     "data": {
      "text/html": [
       "<div>\n",
       "<style scoped>\n",
       "    .dataframe tbody tr th:only-of-type {\n",
       "        vertical-align: middle;\n",
       "    }\n",
       "\n",
       "    .dataframe tbody tr th {\n",
       "        vertical-align: top;\n",
       "    }\n",
       "\n",
       "    .dataframe thead th {\n",
       "        text-align: right;\n",
       "    }\n",
       "</style>\n",
       "<table border=\"1\" class=\"dataframe\">\n",
       "  <thead>\n",
       "    <tr style=\"text-align: right;\">\n",
       "      <th></th>\n",
       "      <th>Firm Name</th>\n",
       "      <th>Additional Firm Info</th>\n",
       "      <th>Address</th>\n",
       "      <th>Country</th>\n",
       "      <th>Ineligibility Period From Date</th>\n",
       "      <th>Ineligibility Period To Date</th>\n",
       "      <th>Grounds</th>\n",
       "    </tr>\n",
       "  </thead>\n",
       "  <tbody>\n",
       "    <tr>\n",
       "      <th>1</th>\n",
       "      <td>LLC WOODMANMEBEL</td>\n",
       "      <td>*514</td>\n",
       "      <td>YUROVSKAYA STREET 92, OFFICE NO. 1, MOSCOW 125466</td>\n",
       "      <td>Russian Federation</td>\n",
       "      <td>2019-12-31</td>\n",
       "      <td>2022-12-30</td>\n",
       "      <td>Procurement Guidelines, 1.16(a)(ii)</td>\n",
       "    </tr>\n",
       "    <tr>\n",
       "      <th>2</th>\n",
       "      <td>ZENG ZILING</td>\n",
       "      <td>NaN</td>\n",
       "      <td>3-21-01, E-SHIDAI, XIN MAO YUAN, SI GONG LI, C...</td>\n",
       "      <td>China</td>\n",
       "      <td>2019-12-24</td>\n",
       "      <td>2023-09-11</td>\n",
       "      <td>Cross Debarment: ADB</td>\n",
       "    </tr>\n",
       "    <tr>\n",
       "      <th>3</th>\n",
       "      <td>GENERAL ELECTRIC POWER SWEDEN AB</td>\n",
       "      <td>NaN</td>\n",
       "      <td>SLOTTSGATAN 69, SE-602 22 NORRKOPING</td>\n",
       "      <td>Sweden</td>\n",
       "      <td>2019-12-17</td>\n",
       "      <td>2025-11-26</td>\n",
       "      <td>Cross Debarment: EBRD</td>\n",
       "    </tr>\n",
       "    <tr>\n",
       "      <th>4</th>\n",
       "      <td>ESWARI ELECTRICALS PVT. LIMITED</td>\n",
       "      <td>*513</td>\n",
       "      <td>PLOT NO. 64, INDUSTRIAL ESTATE, PERUNGUDI, CHE...</td>\n",
       "      <td>India</td>\n",
       "      <td>2019-11-26</td>\n",
       "      <td>2023-11-25</td>\n",
       "      <td>Procurement Guidelines, 1.16(a)(ii)</td>\n",
       "    </tr>\n",
       "    <tr>\n",
       "      <th>5</th>\n",
       "      <td>MOTO-ID S.A.</td>\n",
       "      <td>(Reg. No.: B171868)*475</td>\n",
       "      <td>6, RUE EUGENE RUPPERT, L-2453</td>\n",
       "      <td>Luxembourg</td>\n",
       "      <td>2019-11-22</td>\n",
       "      <td>2025-10-23</td>\n",
       "      <td>May 2010 Procurement Guidelines, Paras. 1.14(a...</td>\n",
       "    </tr>\n",
       "  </tbody>\n",
       "</table>\n",
       "</div>"
      ],
      "text/plain": [
       "                          Firm Name     Additional Firm Info  \\\n",
       "1                  LLC WOODMANMEBEL                     *514   \n",
       "2                       ZENG ZILING                      NaN   \n",
       "3  GENERAL ELECTRIC POWER SWEDEN AB                      NaN   \n",
       "4   ESWARI ELECTRICALS PVT. LIMITED                     *513   \n",
       "5                      MOTO-ID S.A.  (Reg. No.: B171868)*475   \n",
       "\n",
       "                                             Address             Country  \\\n",
       "1  YUROVSKAYA STREET 92, OFFICE NO. 1, MOSCOW 125466  Russian Federation   \n",
       "2  3-21-01, E-SHIDAI, XIN MAO YUAN, SI GONG LI, C...               China   \n",
       "3               SLOTTSGATAN 69, SE-602 22 NORRKOPING              Sweden   \n",
       "4  PLOT NO. 64, INDUSTRIAL ESTATE, PERUNGUDI, CHE...               India   \n",
       "5                      6, RUE EUGENE RUPPERT, L-2453          Luxembourg   \n",
       "\n",
       "  Ineligibility Period From Date Ineligibility Period To Date  \\\n",
       "1                     2019-12-31                   2022-12-30   \n",
       "2                     2019-12-24                   2023-09-11   \n",
       "3                     2019-12-17                   2025-11-26   \n",
       "4                     2019-11-26                   2023-11-25   \n",
       "5                     2019-11-22                   2025-10-23   \n",
       "\n",
       "                                             Grounds  \n",
       "1                Procurement Guidelines, 1.16(a)(ii)  \n",
       "2                               Cross Debarment: ADB  \n",
       "3                              Cross Debarment: EBRD  \n",
       "4                Procurement Guidelines, 1.16(a)(ii)  \n",
       "5  May 2010 Procurement Guidelines, Paras. 1.14(a...  "
      ]
     },
     "execution_count": 27,
     "metadata": {},
     "output_type": "execute_result"
    }
   ],
   "source": [
    "df.head()"
   ]
  },
  {
   "cell_type": "code",
   "execution_count": 28,
   "metadata": {},
   "outputs": [],
   "source": [
    "#df['Ineligibility Period From Date'] =  pd.to_datetime(df['Ineligibility Period From Date'])"
   ]
  },
  {
   "cell_type": "markdown",
   "metadata": {},
   "source": [
    "## Guardando en DataBase"
   ]
  },
  {
   "cell_type": "code",
   "execution_count": 29,
   "metadata": {},
   "outputs": [],
   "source": [
    "import psycopg2\n",
    "from sqlalchemy import create_engine\n",
    "from sqlalchemy.types import String\n",
    "import io\n",
    "con = psycopg2.connect(database=\"prueba\", user=\"postgres\", password=\"12345\", host=\"127.0.0.1\", port=\"5432\")"
   ]
  },
  {
   "cell_type": "code",
   "execution_count": 30,
   "metadata": {},
   "outputs": [],
   "source": [
    "cur = con.cursor()"
   ]
  },
  {
   "cell_type": "code",
   "execution_count": 31,
   "metadata": {},
   "outputs": [
    {
     "name": "stdout",
     "output_type": "stream",
     "text": [
      "Tabla creada\n"
     ]
    }
   ],
   "source": [
    "cur.execute('''CREATE TABLE IF NOT EXISTS diccionario\n",
    "(\n",
    "    \"firmname\" TEXT,\n",
    "    \"additionalfirminfo\" TEXT,\n",
    "    \"adress\" TEXT,\n",
    "    \"country\" TEXT,\n",
    "    \"ineligibilityperiodfromdate\" TEXT,\n",
    "    \"ineligibilityperiodtodate\" TEXT,\n",
    "    \"grounds\" TEXT\n",
    ");''')\n",
    "print(\"Tabla creada\")\n",
    "con.commit()\n",
    "con.close()"
   ]
  },
  {
   "cell_type": "code",
   "execution_count": 32,
   "metadata": {},
   "outputs": [],
   "source": [
    "con = psycopg2.connect(database=\"prueba\", user=\"postgres\", password=\"12345\", host=\"127.0.0.1\", port=\"5432\")\n",
    "cur= con.cursor()\n",
    "i=1\n",
    "num= df.shape[0]\n",
    "while i <= num:\n",
    "    consulta = \"INSERT INTO diccionario(firmname, additionalfirminfo,adress,country,ineligibilityperiodfromdate,ineligibilityperiodtodate,grounds) VALUES ('{}', '{}', '{}', '{}', '{}', '{}', '{}')\".format(\n",
    "        df['Firm Name'][i],df['Additional Firm Info'][i], df['Address'][i],df['Country'][i],\n",
    "        df['Ineligibility Period From Date'][i],df['Ineligibility Period To Date'][i], df['Grounds'][i])\n",
    "    cur.execute(consulta);\n",
    "    con.commit()\n",
    "    i+=1\n",
    "    \n",
    "con.close()"
   ]
  },
  {
   "cell_type": "markdown",
   "metadata": {},
   "source": [
    "el siguiente codigo dio multiples problemas. Sigo buscando una alternativa mas rapida para evitar el llenado escribiendo los campos explicitamente\n",
    "```python\n",
    "obj_cols = df.select_dtypes(include=[object]).columns.values.tolist()\n",
    "df.to_sql('diccionario', con, if_exists='append')\n",
    "\n",
    "df.to_sql(name='new_table',con=con,if_exists='append')\n",
    "con.close()\n",
    "```"
   ]
  },
  {
   "cell_type": "code",
   "execution_count": null,
   "metadata": {},
   "outputs": [],
   "source": []
  }
 ],
 "metadata": {
  "kernelspec": {
   "display_name": "Python 3",
   "language": "python",
   "name": "python3"
  },
  "language_info": {
   "codemirror_mode": {
    "name": "ipython",
    "version": 3
   },
   "file_extension": ".py",
   "mimetype": "text/x-python",
   "name": "python",
   "nbconvert_exporter": "python",
   "pygments_lexer": "ipython3",
   "version": "3.7.5"
  }
 },
 "nbformat": 4,
 "nbformat_minor": 4
}
